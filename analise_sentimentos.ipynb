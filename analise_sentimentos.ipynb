{
 "cells": [
  {
   "cell_type": "code",
   "execution_count": null,
   "id": "67ae4dad",
   "metadata": {
    "vscode": {
     "languageId": "plaintext"
    }
   },
   "outputs": [],
   "source": [
    "!pip install azure-ai-textanalytics matplotlib\n",
    "from azure.ai.textanalytics import TextAnalyticsClient\n",
    "from azure.core.credentials import AzureKeyCredential\n",
    "import matplotlib.pyplot as plt\n",
    "import os\n"
   ]
  },
  {
   "cell_type": "code",
   "execution_count": null,
   "id": "d6d3c22c",
   "metadata": {
    "vscode": {
     "languageId": "plaintext"
    }
   },
   "outputs": [],
   "source": [
    "endpoint = \"https://analise-sentimentos.openai.azure.com/\"\n",
    "key = \"SCz9NYayr9SOJoJGvesm69SliC8eO5kISEmOxEDfupk6MgG7KvwUpJQQJ99BDACZoyfiXJ3w3AAAAACOGXewy\"\n",
    "credential = AzureKeyCredential(key)\n",
    "client = TextAnalyticsClient(endpoint=endpoint, credential=credential)\n"
   ]
  },
  {
   "cell_type": "code",
   "execution_count": null,
   "id": "d529cadc",
   "metadata": {
    "vscode": {
     "languageId": "plaintext"
    }
   },
   "outputs": [],
   "source": [
    "with open(\"inputs/frases.txt\", \"r\", encoding=\"utf-8\") as f:\n",
    "    frases = f.read().splitlines()\n"
   ]
  },
  {
   "cell_type": "code",
   "execution_count": null,
   "id": "37649b04",
   "metadata": {
    "vscode": {
     "languageId": "plaintext"
    }
   },
   "outputs": [],
   "source": [
    "response = client.analyze_sentiment(documents=frases)\n",
    "for i, doc in enumerate(response):\n",
    "    print(f\"Frase: {frases[i]}\")\n",
    "    print(f\"Sentimento: {doc.sentiment}\")\n",
    "    print(\"-\" * 30)\n",
    "\n"
   ]
  },
  {
   "cell_type": "code",
   "execution_count": null,
   "id": "a28fecbc",
   "metadata": {
    "vscode": {
     "languageId": "plaintext"
    }
   },
   "outputs": [],
   "source": [
    "from collections import Counter\n",
    "\n",
    "sentimentos = [doc.sentiment for doc in response]\n",
    "contagem = Counter(sentimentos)\n",
    "\n",
    "plt.bar(contagem.keys(), contagem.values(), color=[\"green\", \"red\", \"gray\"])\n",
    "plt.title(\"Distribuição dos Sentimentos\")\n",
    "plt.ylabel(\"Número de Frases\")\n",
    "plt.xlabel(\"Sentimento\")\n",
    "plt.show()\n",
    "\n"
   ]
  }
 ],
 "metadata": {
  "language_info": {
   "name": "python"
  }
 },
 "nbformat": 4,
 "nbformat_minor": 5
}
